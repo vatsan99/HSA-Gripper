{
 "cells": [
  {
   "cell_type": "code",
   "execution_count": null,
   "metadata": {},
   "outputs": [],
   "source": [
    "import numpy as np\n",
    "import pandas as pd\n",
    "import matplotlib.pyplot as plt\n",
    "from sklearn.linear_model import LinearRegression"
   ]
  },
  {
   "cell_type": "code",
   "execution_count": null,
   "metadata": {},
   "outputs": [],
   "source": [
    "specimen1 = pd.read_csv('specimen1.csv')\n",
    "specimen2 = pd.read_csv('specimen2.csv')\n",
    "specimen3 = pd.read_csv('specimen3.csv')\n",
    "\n",
    "data = pd.read_csv('FEA-FPU50-tensile.csv') # FEA data"
   ]
  },
  {
   "cell_type": "code",
   "execution_count": null,
   "metadata": {},
   "outputs": [],
   "source": [
    "data1 = specimen1[specimen1['Displacement'] < 1]\n",
    "plt.plot(data1['Displacement'], data1['Force'])\n",
    "\n",
    "data2 = specimen2[specimen2['Displacement'] < 1]\n",
    "plt.plot(data2['Displacement'], data2['Force'])\n",
    "\n",
    "data3 = specimen3[specimen3['Displacement'] < 1]\n",
    "plt.plot(data3['Displacement'], data3['Force'])\n",
    "\n",
    "plt.title(\"Force Displacement Curve\")\n",
    "plt.xlabel(\"Displacement $[mm]$\")\n",
    "plt.ylabel(\"Force $[N]$\")\n",
    "plt.legend(['Specimen 1', 'Specimen 2', 'Specimen 3'])"
   ]
  },
  {
   "cell_type": "code",
   "execution_count": null,
   "metadata": {},
   "outputs": [],
   "source": [
    "specimen_thickness = 3.4 # in mm\n",
    "specimen_width = 6 # in mm\n",
    "original_length = 65 # in mm\n",
    "\n",
    "area = specimen_thickness * specimen_width\n"
   ]
  },
  {
   "cell_type": "code",
   "execution_count": null,
   "metadata": {},
   "outputs": [],
   "source": [
    "def stress_strain(force, displacement):\n",
    "    area = specimen_thickness * specimen_width # cross sectional area of the specimen\n",
    "\n",
    "    stress = force / area\n",
    "    strain = displacement / original_length # change in length / original\n",
    "\n",
    "    return stress, strain\n",
    "\n",
    "stress1, strain1 = stress_strain(data1['Force'], data1['Displacement'])\n",
    "stress2, strain2 = stress_strain(data2['Force'], data2['Displacement'])\n",
    "stress3, strain3 = stress_strain(data3['Force'], data3['Displacement'])\n",
    "\n",
    "np.size(strain1)"
   ]
  },
  {
   "cell_type": "code",
   "execution_count": null,
   "metadata": {},
   "outputs": [],
   "source": [
    "plt.plot(strain1, stress1)\n",
    "plt.plot(strain2, stress2)\n",
    "plt.plot(strain3, stress3)\n",
    "plt.title(\"Stress Strain Curve\")\n",
    "plt.xlabel(\"Strain $[-]$\")\n",
    "plt.ylabel(\"Stress $[N/mm^2]$\")\n",
    "plt.legend(['Specimen 1', 'Specimen 2', 'Specimen 3'])"
   ]
  },
  {
   "cell_type": "code",
   "execution_count": null,
   "metadata": {},
   "outputs": [],
   "source": [
    "model = LinearRegression()\n",
    "\n",
    "stress2 = np.array(stress2).reshape(-1, 1)\n",
    "strain2= np.array(strain2).reshape(-1, 1)\n",
    "model.fit(strain2, stress2[0:65])\n",
    "\n",
    "fit_line_data = model.predict(strain2)\n",
    "plt.plot(strain2, fit_line_data, 'b--', label = 'Fit Line')\n",
    "# plt.plot(strain2, stress2)\n",
    "plt.plot(strain2, stress2[0:65], 'k-', label = 'Data', linewidth = 0.5)\n",
    "plt.legend()"
   ]
  },
  {
   "cell_type": "code",
   "execution_count": null,
   "metadata": {},
   "outputs": [],
   "source": [
    "# FEA data analysis\n",
    "\n",
    "new_data = data[data['Displacement1'] < 1] # displacement less than 1 mm\n",
    "\n",
    "new_force_data = new_data['Force1']\n",
    "new_disp_data = new_data['Displacement1']\n",
    "\n",
    "force_data = data['Force1']\n",
    "disp_data = data['Displacement1']\n",
    "\n",
    "new_data"
   ]
  },
  {
   "cell_type": "code",
   "execution_count": null,
   "metadata": {},
   "outputs": [],
   "source": [
    "def stress_strain(force, displacement):\n",
    "    area = specimen_thickness * specimen_width # cross sectional area of the specimen\n",
    "\n",
    "    stress = force / area\n",
    "    strain = displacement / original_length # change in length / original\n",
    "\n",
    "    return stress, strain\n",
    "\n",
    "stress, strain = stress_strain(new_force_data, new_disp_data)\n",
    "\n",
    "\n",
    "stress_strain_data = {'Stress':stress, 'Strain': strain}\n",
    "df = pd.DataFrame(stress_strain_data)\n",
    "# df\n",
    "\n",
    "area = specimen_thickness * specimen_width\n",
    "Youngs_modulus_N = (df.iloc[-1]['Stress'] - df.iloc[0]['Stress']) / (df.iloc[-1]['Strain'] - df.iloc[0]['Strain'])\n",
    "\n",
    "print(\"FEA: Young's Modulus (in MPa) = \", Youngs_modulus_N)\n",
    "print(\"ASTM Type IV: Young's Modulus (in MPa) = \", model.coef_[0])\n"
   ]
  },
  {
   "cell_type": "code",
   "execution_count": null,
   "metadata": {},
   "outputs": [],
   "source": [
    "plt.plot(disp_data, force_data, label = 'FEA data')\n",
    "plt.plot(specimen2['Displacement'], specimen2['Force'], label = 'Specimen 2')\n",
    "plt.title(\"Force Displacement Curve - FPU50\")\n",
    "plt.xlabel(\"Displacement $[mm]$\")\n",
    "plt.ylabel(\"Force $[N]$\")\n",
    "plt.legend()\n",
    "plt.show()\n"
   ]
  },
  {
   "cell_type": "code",
   "execution_count": null,
   "metadata": {},
   "outputs": [],
   "source": [
    "# df.to_csv('stress-strain-PA6-FEA.csv')"
   ]
  }
 ],
 "metadata": {
  "kernelspec": {
   "display_name": "base",
   "language": "python",
   "name": "python3"
  },
  "language_info": {
   "codemirror_mode": {
    "name": "ipython",
    "version": 3
   },
   "file_extension": ".py",
   "mimetype": "text/x-python",
   "name": "python",
   "nbconvert_exporter": "python",
   "pygments_lexer": "ipython3",
   "version": "3.11.5"
  }
 },
 "nbformat": 4,
 "nbformat_minor": 2
}
